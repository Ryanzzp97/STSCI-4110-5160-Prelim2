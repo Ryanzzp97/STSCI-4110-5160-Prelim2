{
 "cells": [
  {
   "cell_type": "code",
   "execution_count": 31,
   "metadata": {},
   "outputs": [
    {
     "data": {
      "text/plain": [
       "2.0    1345\n",
       "1.0     418\n",
       "NaN     147\n",
       "Name: smoker, dtype: int64"
      ]
     },
     "execution_count": 31,
     "metadata": {},
     "output_type": "execute_result"
    }
   ],
   "source": [
    "import pandas as pd\n",
    "\n",
    "df=pd.read_csv(\"final_cardiac_data.csv\")\n",
    "\n",
    "df[\"smoker\"].value_counts(dropna=False)"
   ]
  },
  {
   "cell_type": "code",
   "execution_count": 17,
   "metadata": {},
   "outputs": [
    {
     "data": {
      "text/plain": [
       "8.0     378\n",
       "7.0     316\n",
       "9.0     199\n",
       "7.5     180\n",
       "6.0     165\n",
       "8.5     131\n",
       "6.5     106\n",
       "5.0      82\n",
       "10.0     77\n",
       "9.5      45\n",
       "5.5      45\n",
       "4.0      39\n",
       "11.0     38\n",
       "10.5     24\n",
       "4.5      19\n",
       "3.0      16\n",
       "NaN      13\n",
       "12.0     12\n",
       "3.5       6\n",
       "2.0       6\n",
       "11.5      6\n",
       "14.0      4\n",
       "13.0      3\n",
       "Name: sleep.hrs, dtype: int64"
      ]
     },
     "execution_count": 17,
     "metadata": {},
     "output_type": "execute_result"
    }
   ],
   "source": [
    "df[\"sleep.hrs\"].value_counts(dropna=False)"
   ]
  },
  {
   "cell_type": "code",
   "execution_count": 19,
   "metadata": {},
   "outputs": [
    {
     "data": {
      "text/plain": [
       "NaN     46\n",
       "29.1    22\n",
       "25.6    18\n",
       "33.5    17\n",
       "28.9    16\n",
       "        ..\n",
       "52.3     1\n",
       "55.3     1\n",
       "47.7     1\n",
       "51.9     1\n",
       "14.2     1\n",
       "Name: bmi, Length: 346, dtype: int64"
      ]
     },
     "execution_count": 19,
     "metadata": {},
     "output_type": "execute_result"
    }
   ],
   "source": [
    "df[\"bmi\"].value_counts(dropna=False)"
   ]
  },
  {
   "cell_type": "code",
   "execution_count": 20,
   "metadata": {},
   "outputs": [
    {
     "data": {
      "text/plain": [
       "2.0    1490\n",
       "1.0     303\n",
       "NaN      72\n",
       "3.0      44\n",
       "9.0       1\n",
       "Name: diabetes, dtype: int64"
      ]
     },
     "execution_count": 20,
     "metadata": {},
     "output_type": "execute_result"
    }
   ],
   "source": [
    "df[\"diabetes\"].value_counts(dropna=False)"
   ]
  },
  {
   "cell_type": "code",
   "execution_count": 30,
   "metadata": {},
   "outputs": [
    {
     "name": "stdout",
     "output_type": "stream",
     "text": [
      "Unnamed: 0 : False\n",
      "seqn : False\n",
      "event : False\n",
      "gender : False\n",
      "age : False\n",
      "ethnic1 : False\n",
      "educ : False\n",
      "sleep.hrs : True\n",
      "diabetes : True\n",
      "smoker : True\n",
      "bmi : True\n"
     ]
    }
   ],
   "source": [
    "for i in list(df.columns):\n",
    "    print(i,\":\",df[i].isnull().values.any())"
   ]
  }
 ],
 "metadata": {
  "kernelspec": {
   "display_name": "base",
   "language": "python",
   "name": "python3"
  },
  "language_info": {
   "codemirror_mode": {
    "name": "ipython",
    "version": 3
   },
   "file_extension": ".py",
   "mimetype": "text/x-python",
   "name": "python",
   "nbconvert_exporter": "python",
   "pygments_lexer": "ipython3",
   "version": "3.9.13"
  }
 },
 "nbformat": 4,
 "nbformat_minor": 2
}
